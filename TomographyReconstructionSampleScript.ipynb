{
 "cells": [
  {
   "cell_type": "markdown",
   "metadata": {},
   "source": [
    "# Import libraries"
   ]
  },
  {
   "cell_type": "code",
   "execution_count": null,
   "metadata": {},
   "outputs": [],
   "source": [
    "%reload_ext autoreload\n",
    "%autoreload 2\n",
    "%matplotlib inline\n",
    "import numpy as np\n",
    "import scipy.io as sio\n",
    "from forward import TorchTomographySolver\n",
    "from utilities import show3DStack\n",
    "from IPython.display import display, clear_output\n",
    "import matplotlib.pyplot as plt\n",
    "\n",
    "import torch\n",
    "torch.cuda.set_device(0)"
   ]
  },
  {
   "cell_type": "code",
   "execution_count": null,
   "metadata": {},
   "outputs": [],
   "source": [
    "def plot_result_torch(x, error):\n",
    "    plt.cla()\n",
    "    axes[0].imshow(torch.real(x[:, :, x.shape[2]//2]), cmap=\"gray\", clim=(0, 100))\n",
    "    axes[0].set_title(\"X-Y slice\", fontsize=24)\n",
    "    axes[1].plot(np.log10(error), marker='o', color='k', markerfacecolor=\"None\", linestyle=\"None\", markersize=12)\n",
    "    axes[1].set_title(\"error\", fontsize=24)\n",
    "    if len(error)>1:\n",
    "        error_max = np.log10(np.max(error))\n",
    "        error_min = np.log10(np.min(error))\n",
    "        y_range   = (error_max-error_min)\n",
    "        axes[1].set_xlim(0, len(error))\n",
    "        axes[1].set_ylim(error_min-0.1*y_range, error_max+0.1*y_range)\n",
    "        axes[1].set_aspect(len(error)/(error_max-error_min+0.2*y_range))\n",
    "    else:\n",
    "        axes[1].axis(\"square\")\n",
    "        \n",
    "    clear_output(wait=True)\n",
    "    display(fig)"
   ]
  },
  {
   "cell_type": "markdown",
   "metadata": {},
   "source": [
    "# Specify file path"
   ]
  },
  {
   "cell_type": "code",
   "execution_count": null,
   "metadata": {},
   "outputs": [],
   "source": [
    "fn = 'TEM_simulation_480_SiO2_py.mat'"
   ]
  },
  {
   "cell_type": "markdown",
   "metadata": {},
   "source": [
    "# Load dataset"
   ]
  },
  {
   "cell_type": "code",
   "execution_count": null,
   "metadata": {},
   "outputs": [],
   "source": [
    "data = sio.loadmat(fn)\n",
    "data[\"tilt_angles\"] = np.float32(data[\"tilt_angles\"])\n",
    "data[\"defocus_stack\"] = np.float32(data[\"defocus_stack\"])\n",
    "data[\"na\"] = np.float32(data[\"na\"])\n",
    "print(data.keys())"
   ]
  },
  {
   "cell_type": "markdown",
   "metadata": {},
   "source": [
    "# Define recon parameters"
   ]
  },
  {
   "cell_type": "code",
   "execution_count": null,
   "metadata": {},
   "outputs": [],
   "source": [
    "#Define pixel size\n",
    "voxel_size = np.repeat(np.squeeze(data[\"pixel_size\"]),3)"
   ]
  },
  {
   "cell_type": "code",
   "execution_count": null,
   "metadata": {},
   "outputs": [],
   "source": [
    "params = {\n",
    "    \"shape\":                                          np.squeeze(data[\"obj_shape\"]).tolist(),\n",
    "    \"voxel_size\":                                     voxel_size,\n",
    "    \"wavelength\":                                     data[\"wavelength\"].item(),\n",
    "    \"sigma\":                                          data[\"sigma\"].item() * voxel_size[2],\n",
    "    \"tilt_angles\":                                    np.squeeze(data[\"tilt_angles\"]),\n",
    "    \"defocus_list\":                                   np.squeeze(data[\"defocus_stack\"]),\n",
    "    \"amplitude_measurements\" :                        np.squeeze(data[\"amplitude_measure\"]),\n",
    "    \"numerical_aperture\":                             1.0,\n",
    "    \"binning_factor\":                                 5, \n",
    "    \"pad_size\":                                       [60,60],\n",
    "    \"maxitr\":                                         40,\n",
    "    \"step_size\":                                      1e4,\n",
    "    \"batch_size\":                                     1,\n",
    "    \"shuffle\":                                        False,\n",
    "    \"pupil\":                                          None,\n",
    "    \n",
    "    #shift align\n",
    "    \"shift_align\":                                    False,\n",
    "    \"sa_method\":                                      \"gradient\", #or \"cross_correlation\", \"phase_correlation\", \"hybrid_correlation\"\n",
    "    \"sa_step_size\":                                   0.1,\n",
    "    \"sa_start_iteration\":                             1,        \n",
    "    \n",
    "    #defocus refinement\n",
    "    \"defocus_refine\":                                 False,\n",
    "    \"dr_method\":                                      \"gradient\",\n",
    "    \"dr_step_size\":                                   0.1,\n",
    "    \"dr_start_iteration\":                             0,    \n",
    "    \n",
    "    \"regularizer_total_variation\":                    True,                    \n",
    "    \"regularizer_total_variation_gpu\":                True,\n",
    "    \"regularizer_total_variation_parameter\":          1.0,\n",
    "    \"regularizer_total_variation_maxitr\":             15,\n",
    "    \"regularizer_total_variation_anisotropic\":        False, #anisotropic TV, saves GPU space\n",
    "    \"regularizer_total_variation_order\":              1, #do not change\n",
    "    \"regularizer_pure_real\":                          True,\n",
    "    \"regularizer_pure_imag\":                          False, #do not change\n",
    "    \"regularizer_pure_amplitude\":                     False, #do not change\n",
    "    \"regularizer_pure_phase\":                         False, #do not change\n",
    "    \"regularizer_positivity_real\":                    True, \n",
    "    \"regularizer_positivity_imag\":                    False, #do not change\n",
    "    \"regularizer_negativity_real\":                    False, #do not change\n",
    "    \"regularizer_negativity_imag\":                    False, #do not change\n",
    "}"
   ]
  },
  {
   "cell_type": "code",
   "execution_count": null,
   "metadata": {},
   "outputs": [],
   "source": [
    "solver_obj = TorchTomographySolver(**params)"
   ]
  },
  {
   "cell_type": "markdown",
   "metadata": {},
   "source": [
    "# Start recon"
   ]
  },
  {
   "cell_type": "code",
   "execution_count": null,
   "metadata": {
    "scrolled": false
   },
   "outputs": [],
   "source": [
    "fig, axes = plt.subplots(1, 2, figsize=(13, 6))\n",
    "output = solver_obj.run(callback=plot_result_torch)"
   ]
  }
 ],
 "metadata": {
  "kernelspec": {
   "display_name": "Python 3",
   "language": "python",
   "name": "python3"
  },
  "language_info": {
   "codemirror_mode": {
    "name": "ipython",
    "version": 3
   },
   "file_extension": ".py",
   "mimetype": "text/x-python",
   "name": "python",
   "nbconvert_exporter": "python",
   "pygments_lexer": "ipython3",
   "version": "3.6.12"
  }
 },
 "nbformat": 4,
 "nbformat_minor": 2
}
